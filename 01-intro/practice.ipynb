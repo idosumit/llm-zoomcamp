{
 "cells": [
  {
   "cell_type": "code",
   "execution_count": 17,
   "id": "960830fd-f31f-4e89-8894-8f13fdac4b99",
   "metadata": {},
   "outputs": [],
   "source": [
    "import openai"
   ]
  },
  {
   "cell_type": "code",
   "execution_count": 18,
   "id": "070bc4c5-84f0-48bc-8f54-ac884f27ede2",
   "metadata": {},
   "outputs": [],
   "source": [
    "from openai import OpenAI"
   ]
  },
  {
   "cell_type": "code",
   "execution_count": 19,
   "id": "98a062da-5274-4a74-9656-5687b75d265b",
   "metadata": {},
   "outputs": [
    {
     "name": "stdout",
     "output_type": "stream",
     "text": [
      "API key is set.\n"
     ]
    }
   ],
   "source": [
    "from dotenv import load_dotenv\n",
    "import os\n",
    "\n",
    "load_dotenv()\n",
    "\n",
    "api_key = os.getenv('OPENAI_API_KEY')\n",
    "\n",
    "if api_key:\n",
    "    print(\"API key is set.\")\n",
    "else:\n",
    "    print(\"API key is not set.\")"
   ]
  },
  {
   "cell_type": "code",
   "execution_count": 20,
   "id": "050867f2-ea98-4d6e-93b7-4fefe51a840a",
   "metadata": {},
   "outputs": [],
   "source": [
    "client = OpenAI(api_key=api_key)"
   ]
  },
  {
   "cell_type": "code",
   "execution_count": 35,
   "id": "43f663c0-9bb9-4251-84a1-d6fa9bd1f466",
   "metadata": {},
   "outputs": [],
   "source": [
    "response = client.chat.completions.create(\n",
    "    model='gpt-3.5-turbo-0125',\n",
    "    messages=[{'role': 'user', 'content': 'what are some reasons for lack of sleep during summer?'}]\n",
    ")"
   ]
  },
  {
   "cell_type": "code",
   "execution_count": 37,
   "id": "82b96abd-0baa-4ba6-9b4d-35c331c9e063",
   "metadata": {},
   "outputs": [],
   "source": [
    "response = response.choices[0].message.content"
   ]
  },
  {
   "cell_type": "code",
   "execution_count": 40,
   "id": "ce84413e-a466-437a-a4b4-8984efda56bc",
   "metadata": {},
   "outputs": [
    {
     "data": {
      "text/plain": [
       "\"1. Increased daylight hours: Longer days during the summer can disrupt the body's natural circadian rhythm, making it harder to fall asleep.  2. Heat and humidity: Hot temperatures and high humidity can make it difficult to sleep comfortably, leading to restlessness and disrupted sleep patterns.  3. Travel and vacations: Changes in routine, jet lag, and unfamiliar sleeping environments can all contribute to sleep disturbances during the summer months.  4. Late sunsets: Bright sunlight well into the evening can delay the body's production of melatonin, the hormone that regulates sleep, making it harder to feel sleepy at a normal bedtime.  5. Summertime activities and social events: Busier schedules, late nights out, and increased social engagements can disrupt regular sleep patterns and lead to sleep deprivation.  6. Allergies and respiratory issues: Pollen and other allergens are more prevalent during the summer months, leading to congestion, sneezing, and other symptoms that can interfere with sleep quality.  7. Excessive screen time: Spending more time outdoors and on electronic devices can disrupt the body's natural sleep-wake cycle and lead to difficulty falling asleep.\""
      ]
     },
     "execution_count": 40,
     "metadata": {},
     "output_type": "execute_result"
    }
   ],
   "source": [
    "response.replace('\\n', ' ')  "
   ]
  },
  {
   "cell_type": "code",
   "execution_count": null,
   "id": "c429cb55-0315-49ab-97c3-c9888401a0c5",
   "metadata": {},
   "outputs": [],
   "source": []
  }
 ],
 "metadata": {
  "kernelspec": {
   "display_name": "Python 3 (ipykernel)",
   "language": "python",
   "name": "python3"
  },
  "language_info": {
   "codemirror_mode": {
    "name": "ipython",
    "version": 3
   },
   "file_extension": ".py",
   "mimetype": "text/x-python",
   "name": "python",
   "nbconvert_exporter": "python",
   "pygments_lexer": "ipython3",
   "version": "3.12.3"
  }
 },
 "nbformat": 4,
 "nbformat_minor": 5
}
